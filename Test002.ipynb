{
 "metadata": {
  "language_info": {
   "codemirror_mode": {
    "name": "ipython",
    "version": 3
   },
   "file_extension": ".py",
   "mimetype": "text/x-python",
   "name": "python",
   "nbconvert_exporter": "python",
   "pygments_lexer": "ipython3",
   "version": "3.7.6-final"
  },
  "orig_nbformat": 2,
  "kernelspec": {
   "name": "python37664bitbaseconda126d705cebac47a0af2c0e17d1b53f34",
   "display_name": "Python 3.7.6 64-bit ('base': conda)",
   "language": "python"
  }
 },
 "nbformat": 4,
 "nbformat_minor": 2,
 "cells": [
  {
   "cell_type": "code",
   "execution_count": 8,
   "metadata": {},
   "outputs": [],
   "source": [
    "import numpy as np\n",
    "from matplotlib import pyplot as plt\n",
    "import imageio\n",
    "\n",
    "#from image_imgui1 import Image\n",
    "#import image_imgui2\n",
    "peppersImg = plt.imread('Assets\\Exercise_01_Peppers.png')\n",
    "\n",
    "#image_imgui2.display(peppersImg)"
   ]
  },
  {
   "cell_type": "code",
   "execution_count": 5,
   "metadata": {},
   "outputs": [],
   "source": [
    "# Next Steps \n",
    "# generate checkerboard 500x500\n",
    "# float and int \n",
    "# 10bit image\n",
    "# check for packages and install if not available\n",
    "# optimize Zoom\n",
    "# Mouse Zoom and Drag\n",
    "# multiple pictures\n",
    "\n",
    "test_image = plt.imread('Assets\\DeltaE_8bit.tif')   # int instead of float\n",
    "#print(test_image)\n",
    "image_imgui2.display(test_image)"
   ]
  },
  {
   "cell_type": "code",
   "execution_count": 15,
   "metadata": {},
   "outputs": [
    {
     "output_type": "stream",
     "name": "stdout",
     "text": [
      "True\nTrue\nuint8\nuint16\n"
     ]
    }
   ],
   "source": [
    "peppersImg = imageio.imread('Assets\\Exercise_01_Peppers.png')\n",
    "pepperImgf = plt.imread('Assets\\Exercise_01_Peppers.png')\n",
    "testImg8 = imageio.imread('Assets\\DeltaE_8bit.tif')\n",
    "testImg16 = imageio.imread('Assets\\DeltaE_16bit.tif') # plt.imread will only have uint8 not uint16 \n",
    "print(peppersImg.dtype == 'uint8')\n",
    "print(pepperImgf.dtype == 'float32' or 'float16')\n",
    "print(testImg8.dtype)\n",
    "print(testImg16.dtype)"
   ]
  },
  {
   "cell_type": "code",
   "execution_count": null,
   "metadata": {},
   "outputs": [],
   "source": []
  }
 ]
}