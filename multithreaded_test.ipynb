{
 "cells": [
  {
   "cell_type": "code",
   "execution_count": null,
   "metadata": {},
   "outputs": [],
   "source": [
    "# Execute once\n",
    "# All Denpendencies needed for image_imgui\n",
    "# Zipfile with three testimages, image_imgui and Test.ipynb\n",
    "!pip install imgui[glfw]\n",
    "!pip install PyOpenGL\n",
    "#imageio.plugins.freeimage.download()\n",
    "!pip install imageio"
   ]
  },
  {
   "cell_type": "code",
   "execution_count": null,
   "metadata": {},
   "outputs": [],
   "source": [
    "# imports\n",
    "import numpy as np\n",
    "import imageio\n",
    "#import image_imgui as ig\n",
    "from multi_image import ImageViewer #, display\n",
    "from matplotlib import pyplot as plt"
   ]
  },
  {
   "cell_type": "code",
   "execution_count": null,
   "metadata": {},
   "outputs": [],
   "source": [
    "# generate checkerboard\n",
    "def gen_checkerboard(width=500,height=500):\n",
    "    checkerboard = np.zeros((width,height,3))\n",
    "    one = np.array((1.,1.,1.))\n",
    "\n",
    "    for i in range(checkerboard.shape[0]):\n",
    "        for j in range(checkerboard.shape[1]):\n",
    "            if (i + j) % 2 == 0:\n",
    "                checkerboard[i,j,:] = one\n",
    "    return checkerboard"
   ]
  },
  {
   "cell_type": "code",
   "execution_count": null,
   "metadata": {},
   "outputs": [],
   "source": [
    "# generate grey ramp for bit depth test\n",
    "def gen_ramp(width=2000, height=1000, min=0.3, max=0.6):\n",
    "    ramp = np.linspace(min, max, num=width)\n",
    "    ramp = np.repeat(ramp[None,:], height, axis=0)\n",
    "    ramp = np.repeat(ramp[...,None], 3, axis=-1)\n",
    "    return ramp"
   ]
  },
  {
   "cell_type": "code",
   "execution_count": null,
   "metadata": {},
   "outputs": [],
   "source": [
    "iv = ImageViewer()"
   ]
  },
  {
   "cell_type": "code",
   "execution_count": null,
   "metadata": {},
   "outputs": [],
   "source": [
    "test_ramp = gen_ramp()\n",
    "iv.display(test_ramp, 'Ramp')"
   ]
  },
  {
   "cell_type": "code",
   "execution_count": null,
   "metadata": {},
   "outputs": [],
   "source": [
    "checkerboard = gen_checkerboard(1000, 1000)\n",
    "iv.display(checkerboard, 'Checkerboard')"
   ]
  },
  {
   "cell_type": "code",
   "execution_count": null,
   "metadata": {},
   "outputs": [],
   "source": [
    "# image_imgui example\n",
    "\n",
    "# Load images\n",
    "test_image1 = plt.imread('Assets/Exercise_01_Peppers.png')   \n",
    "test_image2 = imageio.imread('Assets/DeltaE_8bit.tif')\n",
    "\n",
    "# display array\n",
    "iv.display(test_image2, 'Lindbloom')"
   ]
  },
  {
   "cell_type": "code",
   "execution_count": null,
   "metadata": {},
   "outputs": [],
   "source": []
  }
 ],
 "metadata": {
  "kernelspec": {
   "display_name": "Python 3",
   "language": "python",
   "name": "python3"
  },
  "language_info": {
   "codemirror_mode": {
    "name": "ipython",
    "version": 3
   },
   "file_extension": ".py",
   "mimetype": "text/x-python",
   "name": "python",
   "nbconvert_exporter": "python",
   "pygments_lexer": "ipython3",
   "version": "3.8.5"
  }
 },
 "nbformat": 4,
 "nbformat_minor": 4
}
