{
 "cells": [
  {
   "cell_type": "code",
   "execution_count": null,
   "metadata": {},
   "outputs": [],
   "source": [
    "# Execute once, Dependencies for multi_image_viewer.py\n",
    "# Zipfile with three testimages, multi_image_viewer.py and multithreaded_test.ipynb\n",
    "!pip install imgui[glfw]\n",
    "!pip install PyOpenGL\n",
    "!pip install imageio\n",
    "#imageio.plugins.freeimage.download()"
   ]
  },
  {
   "cell_type": "code",
   "execution_count": 1,
   "metadata": {},
   "outputs": [],
   "source": [
    "# Imports\n",
    "import numpy as np\n",
    "import imageio\n",
    "from multi_image_viewer import ImageViewer\n",
    "from matplotlib import pyplot as plt"
   ]
  },
  {
   "source": [
    "## How To use multi_image_viewer.py\n",
    "\n",
    "1. Import: 'from multi_image_viewer import ImageViewer'\n",
    "2. Open window: 'iv = ImageViewer'\n",
    "3. Push pictures to the ImageViewer: 'iv.display(variable, \"name\")'\n",
    "\n",
    "If the kernel has been restarted repeat step 1. and 2. to open the ImageViewer.\n",
    "\n",
    "The ImageViewer only accepts Numpy-Arrays the have the shape od an Image (2D and 3D)."
   ],
   "cell_type": "markdown",
   "metadata": {}
  },
  {
   "cell_type": "code",
   "execution_count": 2,
   "metadata": {},
   "outputs": [],
   "source": [
    "# generate checkerboard\n",
    "def gen_checkerboard(width=500,height=500):\n",
    "    checkerboard = np.zeros((width,height,3))\n",
    "    one = np.array((1.,1.,1.))\n",
    "\n",
    "    for i in range(checkerboard.shape[0]):\n",
    "        for j in range(checkerboard.shape[1]):\n",
    "            if (i + j) % 2 == 0:\n",
    "                checkerboard[i,j,:] = one\n",
    "    return checkerboard"
   ]
  },
  {
   "cell_type": "code",
   "execution_count": 3,
   "metadata": {},
   "outputs": [],
   "source": [
    "# generate grey ramp for bit depth test\n",
    "def gen_ramp(width=2000, height=1000, min=0.3, max=0.6):\n",
    "    ramp = np.linspace(min, max, num=width)\n",
    "    ramp = np.repeat(ramp[None,:], height, axis=0)\n",
    "    ramp = np.repeat(ramp[...,None], 3, axis=-1)\n",
    "    return ramp"
   ]
  },
  {
   "cell_type": "code",
   "execution_count": 4,
   "metadata": {},
   "outputs": [],
   "source": [
    "iv = ImageViewer()"
   ]
  },
  {
   "cell_type": "code",
   "execution_count": 5,
   "metadata": {},
   "outputs": [],
   "source": [
    "test_ramp = gen_ramp()\n",
    "iv.display(test_ramp, 'Ramp')"
   ]
  },
  {
   "cell_type": "code",
   "execution_count": 6,
   "metadata": {},
   "outputs": [],
   "source": [
    "checkerboard = gen_checkerboard(1000, 1000)\n",
    "iv.display(checkerboard, 'Checkerboard')"
   ]
  },
  {
   "cell_type": "code",
   "execution_count": 7,
   "metadata": {},
   "outputs": [],
   "source": [
    "# image_imgui example\n",
    "\n",
    "# Load images\n",
    "test_image1 = plt.imread('Assets/Exercise_01_Peppers.png')   \n",
    "test_image2 = imageio.imread('Assets/DeltaE_8bit.tif')\n",
    "\n",
    "# display array\n",
    "iv.display(test_image2, 'Lindbloom')"
   ]
  },
  {
   "cell_type": "code",
   "execution_count": null,
   "metadata": {},
   "outputs": [],
   "source": []
  }
 ],
 "metadata": {
  "kernelspec": {
   "display_name": "Python 3",
   "language": "python",
   "name": "python3"
  },
  "language_info": {
   "codemirror_mode": {
    "name": "ipython",
    "version": 3
   },
   "file_extension": ".py",
   "mimetype": "text/x-python",
   "name": "python",
   "nbconvert_exporter": "python",
   "pygments_lexer": "ipython3",
   "version": "3.7.6-final"
  }
 },
 "nbformat": 4,
 "nbformat_minor": 4
}