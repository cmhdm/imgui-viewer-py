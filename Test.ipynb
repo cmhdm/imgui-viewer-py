{
 "metadata": {
  "language_info": {
   "codemirror_mode": {
    "name": "ipython",
    "version": 3
   },
   "file_extension": ".py",
   "mimetype": "text/x-python",
   "name": "python",
   "nbconvert_exporter": "python",
   "pygments_lexer": "ipython3",
   "version": "3.7.6-final"
  },
  "orig_nbformat": 2,
  "kernelspec": {
   "name": "python37664bitbaseconda126d705cebac47a0af2c0e17d1b53f34",
   "display_name": "Python 3.7.6 64-bit ('base': conda)",
   "language": "python"
  }
 },
 "nbformat": 4,
 "nbformat_minor": 2,
 "cells": [
  {
   "cell_type": "code",
   "execution_count": null,
   "metadata": {},
   "outputs": [],
   "source": [
    "# Execute once\n",
    "# All Denpendencies needed for image_imgui\n",
    "# Zipfile with three testimages, image_imgui and Test.ipynb\n",
    "!pip install imgui[gflw]\n",
    "!pip install PyOpenGL\n",
    "!pip install imageio # imageio.plugins.freeimage.download()"
   ]
  },
  {
   "cell_type": "code",
   "execution_count": 1,
   "metadata": {},
   "outputs": [],
   "source": [
    "# imports\n",
    "import numpy as np\n",
    "import imageio\n",
    "import image_imgui as ig\n",
    "from matplotlib import pyplot as plt"
   ]
  },
  {
   "cell_type": "code",
   "execution_count": 3,
   "metadata": {},
   "outputs": [],
   "source": [
    "# generate checkerboard\n",
    "def gen_checkerboard(width=500,height=500):\n",
    "    checkerboard = np.zeros((width,height,3))\n",
    "    one = np.array((1.,1.,1.))\n",
    "\n",
    "    for i in range(checkerboard.shape[0]):\n",
    "        for j in range(checkerboard.shape[1]):\n",
    "            if (i + j) % 2 == 0:\n",
    "                checkerboard[i,j,:] = one\n",
    "    return checkerboard"
   ]
  },
  {
   "cell_type": "code",
   "execution_count": null,
   "metadata": {},
   "outputs": [],
   "source": [
    "checkerboard = gen_checkerboard(1000, 1000)\n",
    "ig.display(checkerboard)"
   ]
  },
  {
   "cell_type": "code",
   "execution_count": 3,
   "metadata": {},
   "outputs": [
    {
     "output_type": "stream",
     "name": "stdout",
     "text": [
      "uint8\n"
     ]
    }
   ],
   "source": [
    "# image_imgui example\n",
    "\n",
    "# Load images\n",
    "test_image1 = plt.imread('Assets\\Exercise_01_Peppers.png')   \n",
    "test_image2 = imageio.imread('Assets\\DeltaE_8bit.tif')\n",
    "\n",
    "# display array\n",
    "ig.display(test_image2)"
   ]
  },
  {
   "cell_type": "code",
   "execution_count": null,
   "metadata": {},
   "outputs": [],
   "source": []
  }
 ]
}