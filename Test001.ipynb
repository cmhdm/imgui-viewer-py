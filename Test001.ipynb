{
 "metadata": {
  "language_info": {
   "codemirror_mode": {
    "name": "ipython",
    "version": 3
   },
   "file_extension": ".py",
   "mimetype": "text/x-python",
   "name": "python",
   "nbconvert_exporter": "python",
   "pygments_lexer": "ipython3",
   "version": "3.7.6-final"
  },
  "orig_nbformat": 2,
  "kernelspec": {
   "name": "python3",
   "display_name": "Python 3",
   "language": "python"
  }
 },
 "nbformat": 4,
 "nbformat_minor": 2,
 "cells": [
  {
   "cell_type": "code",
   "execution_count": 53,
   "metadata": {},
   "outputs": [],
   "source": [
    "from matplotlib import pyplot as plt\n",
    "import pyglet as pyg\n",
    "from datetime import datetime\n",
    "import os\n",
    "\n",
    "if not os.path.exists('Data'):\n",
    "    os.makedirs('Data')\n",
    "\n",
    "filename = datetime.now().strftime('Data/%Y%m%d-%H%M%S.png')\n",
    "\n",
    "pic = plt.imread('DeltaE_Testbilder/DeltaE_8bit_gamma1.0.tif')\n",
    "#Save Array as PNG\n",
    "plt.imsave(filename, pic)\n",
    "\n",
    "#Create Window with file.png\n",
    "image = pyg.image.load(filename)\n",
    "image4Display = pyg.sprite.Sprite(image, x=0, y=0)\n",
    "height = image.height\n",
    "width = image.width\n",
    "\n",
    "#Check Display Size\n",
    "display = pyglet.canvas.get_display()\n",
    "screens = display.get_screens()\n",
    "screen = screens[0]\n",
    "widthD = screen.width\n",
    "heightD = screen.height\n",
    "\n",
    "#Set windowsize Max to Displaysize\n",
    "if height > heightD:\n",
    "    height = heightD\n",
    "if width > widthD:\n",
    "    width = widthD \n",
    "\n",
    "window = pyglet.window.Window(width, height)\n",
    "\n",
    "@window.event\n",
    "def on_draw():\n",
    "    image.blit(0,0)\n",
    "\n",
    "@window.event\n",
    "def on_mouse_drag(x, y, dx, dy, buttons, modifiers):\n",
    "    if buttons & mouse.LEFT:\n",
    "        pass\n",
    "\n",
    "pyglet.app.run()"
   ]
  },
  {
   "cell_type": "code",
   "execution_count": 51,
   "metadata": {},
   "outputs": [
    {
     "output_type": "stream",
     "name": "stdout",
     "text": [
      "1366 768\n"
     ]
    }
   ],
   "source": [
    "display = pyglet.canvas.get_display()\n",
    "screens = display.get_screens()\n",
    "screen = screens[0]\n",
    "widthD = screen.width\n",
    "heightD = screen.height\n",
    "print(widthD, heightD)"
   ]
  },
  {
   "cell_type": "code",
   "execution_count": null,
   "metadata": {},
   "outputs": [],
   "source": [
    "def on_mouse_drag(x, y, dx, dy, buttons, modifiers):\n",
    "    if buttons & mouse.LEFT:\n",
    "        pass\n",
    "\n",
    " def on_mouse_scroll(x, y, scroll_x, scroll_y):\n",
    "    pass"
   ]
  },
  {
   "cell_type": "code",
   "execution_count": null,
   "metadata": {},
   "outputs": [],
   "source": []
  }
 ]
}