{
 "metadata": {
  "language_info": {
   "codemirror_mode": {
    "name": "ipython",
    "version": 3
   },
   "file_extension": ".py",
   "mimetype": "text/x-python",
   "name": "python",
   "nbconvert_exporter": "python",
   "pygments_lexer": "ipython3",
   "version": "3.7.6-final"
  },
  "orig_nbformat": 2,
  "kernelspec": {
   "name": "python3",
   "display_name": "Python 3",
   "language": "python"
  }
 },
 "nbformat": 4,
 "nbformat_minor": 2,
 "cells": [
  {
   "cell_type": "code",
   "execution_count": null,
   "metadata": {},
   "outputs": [],
   "source": [
    "from matplotlib import pyplot as plt\n",
    "import pyglet as pyg\n",
    "from datetime import datetime\n",
    "import os\n",
    "\n",
    "if not os.path.exists('Data'):\n",
    "    os.makedirs('Data')\n",
    "\n",
    "filename = datetime.now().strftime('Data/%Y%m%d-%H%M%S.png')\n",
    "\n",
    "pic = plt.imread('DeltaE_Testbilder/DeltaE_8bit_gamma1.0.tif')\n",
    "#Save Array as PNG\n",
    "plt.imsave(filename, pic)\n",
    "\n",
    "#Create Window with file.png\n",
    "image = pyg.image.load(filename)\n",
    "image4Display = pyg.sprite.Sprite(image, x=0, y=0)\n",
    "height = image.height\n",
    "width = image.width\n",
    "\n",
    "#Check Display Size\n",
    "display = pyglet.canvas.get_display()\n",
    "screens = display.get_screens()\n",
    "screen = screens[0]\n",
    "widthD = screen.width\n",
    "heightD = screen.height\n",
    "\n",
    "#Set windowsize Max to Displaysize\n",
    "if height > heightD:\n",
    "    height = heightD\n",
    "if width > widthD:\n",
    "    width = widthD \n",
    "\n",
    "window = pyglet.window.Window(width, height)\n",
    "\n",
    "@window.event\n",
    "def on_draw():\n",
    "    image.blit(0,0)\n",
    "\n",
    "@window.event\n",
    "def on_mouse_drag(x, y, dx, dy, buttons, modifiers):\n",
    "    if buttons & mouse.LEFT:\n",
    "        pass\n",
    "\n",
    "pyglet.app.run()"
   ]
  },
  {
   "cell_type": "code",
   "execution_count": null,
   "metadata": {},
   "outputs": [],
   "source": [
    "display = pyglet.canvas.get_display()\n",
    "screens = display.get_screens()\n",
    "screen = screens[0]\n",
    "widthD = screen.width\n",
    "heightD = screen.height\n",
    "print(widthD, heightD)"
   ]
  },
  {
   "cell_type": "code",
   "execution_count": null,
   "metadata": {},
   "outputs": [],
   "source": [
    "def on_mouse_drag(x, y, dx, dy, buttons, modifiers):\n",
    "    if buttons & mouse.LEFT:\n",
    "        pass\n",
    "\n",
    " def on_mouse_scroll(x, y, scroll_x, scroll_y):\n",
    "    pass"
   ]
  },
  {
   "cell_type": "code",
   "execution_count": 1,
   "metadata": {},
   "outputs": [
    {
     "output_type": "error",
     "ename": "ImGuiError",
     "evalue": "ImGui assertion error (GImGui != NULL && \"No current context. Did you call ImGui::CreateContext() or ImGui::SetCurrentContext()?\") at imgui-cpp/imgui.cpp:2833",
     "traceback": [
      "\u001b[1;31m---------------------------------------------------------------------------\u001b[0m",
      "\u001b[1;31mImGuiError\u001b[0m                                Traceback (most recent call last)",
      "\u001b[1;32m<ipython-input-1-3ec189202117>\u001b[0m in \u001b[0;36m<module>\u001b[1;34m\u001b[0m\n\u001b[0;32m      2\u001b[0m \u001b[1;32mimport\u001b[0m \u001b[0mimgui\u001b[0m\u001b[1;33m\u001b[0m\u001b[1;33m\u001b[0m\u001b[0m\n\u001b[0;32m      3\u001b[0m \u001b[1;33m\u001b[0m\u001b[0m\n\u001b[1;32m----> 4\u001b[1;33m \u001b[0mio\u001b[0m \u001b[1;33m=\u001b[0m \u001b[0mimgui\u001b[0m\u001b[1;33m.\u001b[0m\u001b[0mcore\u001b[0m\u001b[1;33m.\u001b[0m\u001b[0mget_io\u001b[0m\u001b[1;33m(\u001b[0m\u001b[1;33m)\u001b[0m\u001b[1;33m\u001b[0m\u001b[1;33m\u001b[0m\u001b[0m\n\u001b[0m\u001b[0;32m      5\u001b[0m \u001b[1;33m\u001b[0m\u001b[0m\n\u001b[0;32m      6\u001b[0m \u001b[0mtest\u001b[0m \u001b[1;33m=\u001b[0m \u001b[0mimageio\u001b[0m\u001b[1;33m.\u001b[0m\u001b[0mimread\u001b[0m\u001b[1;33m(\u001b[0m\u001b[1;34m'Assets/DeltaE_16bit.tif'\u001b[0m\u001b[1;33m)\u001b[0m\u001b[1;33m\u001b[0m\u001b[1;33m\u001b[0m\u001b[0m\n",
      "\u001b[1;32mC:\\ProgramData\\Anaconda3\\lib\\site-packages\\imgui\\core.pyx\u001b[0m in \u001b[0;36mimgui.core.get_io\u001b[1;34m()\u001b[0m\n",
      "\u001b[1;32mC:\\ProgramData\\Anaconda3\\lib\\site-packages\\imgui\\core.pyx\u001b[0m in \u001b[0;36mimgui.core._IO.__init__\u001b[1;34m()\u001b[0m\n",
      "\u001b[1;31mImGuiError\u001b[0m: ImGui assertion error (GImGui != NULL && \"No current context. Did you call ImGui::CreateContext() or ImGui::SetCurrentContext()?\") at imgui-cpp/imgui.cpp:2833"
     ]
    }
   ],
   "source": [
    "import imageio\n",
    "import imgui\n",
    "\n",
    "io = imgui.core.get_io()\n",
    "\n",
    "test = imageio.imread('Assets/DeltaE_16bit.tif')\n",
    "texture_data = test[:,:,:3]\n",
    "\n",
    "display = io.get_display_size()\n",
    "\n",
    "print(display)\n",
    "\n",
    "print(texture_data.shape)"
   ]
  },
  {
   "cell_type": "code",
   "execution_count": 3,
   "metadata": {},
   "outputs": [
    {
     "output_type": "stream",
     "name": "stdout",
     "text": [
      "(1366, 768)\n"
     ]
    }
   ],
   "source": [
    "import ctypes\n",
    "user32 = ctypes.windll.user32\n",
    "screensize = user32.GetSystemMetrics(78), user32.GetSystemMetrics(79)\n",
    "\n",
    "print (screensize)"
   ]
  },
  {
   "cell_type": "code",
   "execution_count": 6,
   "metadata": {},
   "outputs": [
    {
     "output_type": "stream",
     "name": "stdout",
     "text": [
      "1366\n"
     ]
    }
   ],
   "source": [
    "import pyautogui\n",
    "display = pyautogui.size()\n",
    "print(display.width)\n"
   ]
  },
  {
   "cell_type": "code",
   "execution_count": 1,
   "metadata": {},
   "outputs": [],
   "source": [
    "import imgui\n",
    "scroll = imgui.core.get_scroll_y()\n",
    "print(scroll)\n",
    "'''display2 = imgui.core.get_window_width()\n",
    "print(display2)'''"
   ]
  },
  {
   "cell_type": "code",
   "execution_count": 14,
   "metadata": {},
   "outputs": [
    {
     "output_type": "stream",
     "name": "stdout",
     "text": [
      "[]\n"
     ]
    }
   ],
   "source": [
    "import glfw\n",
    "monitor = glfw.get_monitors()\n",
    "print(monitor)"
   ]
  }
 ]
}